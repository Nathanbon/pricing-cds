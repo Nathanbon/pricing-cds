{
  "nbformat": 4,
  "nbformat_minor": 0,
  "metadata": {
    "colab": {
      "provenance": [],
      "toc_visible": true
    },
    "kernelspec": {
      "name": "python3",
      "display_name": "Python 3"
    },
    "language_info": {
      "name": "python"
    }
  },
  "cells": [
    {
      "cell_type": "markdown",
      "source": [
        "22 et 23/06/2024, Nathan BONNEAU"
      ],
      "metadata": {
        "id": "xWazkeCLFG7Z"
      }
    },
    {
      "cell_type": "markdown",
      "source": [
        "#**Pricer de CDS et estimation de l'intensité de défaut à partir du prix des obligations**"
      ],
      "metadata": {
        "id": "h2IfFztY50Oe"
      }
    },
    {
      "cell_type": "markdown",
      "source": [
        "# Importation des librairies"
      ],
      "metadata": {
        "id": "4rSAx5Uy6D7A"
      }
    },
    {
      "cell_type": "code",
      "source": [
        "import pandas as pd\n",
        "import numpy as np\n",
        "from IPython.display import clear_output"
      ],
      "metadata": {
        "id": "suVJvEz2-Yr-"
      },
      "execution_count": 29,
      "outputs": []
    },
    {
      "cell_type": "markdown",
      "source": [
        "# Pricer de CDS"
      ],
      "metadata": {
        "id": "hnAgpJoq6HRj"
      }
    },
    {
      "cell_type": "markdown",
      "source": [
        "## Hypothèses :\n",
        "- Les défauts peuvent survenir uniquement en milieu d'année\n",
        "- Les paiements du CDS par l'acheteur sont faits une fois par an\n",
        "- Le taux de recouvrement par défaut vaut 40% (valeur de l'obligation juste après le défaut)\n"
      ],
      "metadata": {
        "id": "A4jdMDRP6YZO"
      }
    },
    {
      "cell_type": "markdown",
      "source": [
        "À partir de l'intensité de défaut en entrée de la fonction, nous pouvons calculer la probabilité de défaut et la probabilité de survie pour chaque année.\n",
        "\n",
        "Nous pourrons ensuite calculer la somme des cash flows actualisés payés par l'acheteur du CDS (dans *df_cds_survie*) et les actualiser (en posant s = spread que l'on recherche). En cas de défaut, l'acheteur du CDS aura payé uniquement la moitié du spread. Il faut donc calculer ces cash flows actualisés (dans *df_cds_defaut*).\n",
        "\n",
        "On calculera ensuite les cash flows actualisés que pourrait générer un défaut que le vendeur devrait payer (dans *df_cds_defaut*) à l'acheteur du CDS.\n",
        "\n",
        "Il restera à trouver s, le spread, tel que la somme des cash flows de l'acheteur actualisés soit égale à la somme des cash flows actualisés du vendeur."
      ],
      "metadata": {
        "id": "TDq85Ppb64FL"
      }
    },
    {
      "cell_type": "code",
      "source": [
        "def prixCDS(nbyears, intensityDefault, freeRisk, recouvrement =0.4):\n",
        "\n",
        "  #CF lorsqu'il n'y a pas défaut de paiement\n",
        "  df_cds_survie = pd.DataFrame()\n",
        "  years = list(range(1, nbyears+1)) #dates (en nb de years)\n",
        "  df_cds_survie['Maturite'] = years\n",
        "  df_cds_survie['Proba de survie'] = np.exp(-intensityDefault*df_cds_survie['Maturite'])#proba de survie\n",
        "  for index in df_cds_survie.index:\n",
        "    if index == 0:\n",
        "      df_cds_survie.loc[index,'Proba de défaut'] = 1 - df_cds_survie.loc[index,'Proba de survie']  #proba de défaut\n",
        "    else:\n",
        "     df_cds_survie.loc[index,'Proba de défaut'] =df_cds_survie.loc[index-1,'Proba de survie']-df_cds_survie.loc[index,'Proba de survie']\n",
        "  df_cds_survie['Facteur actualisation'] = np.exp(-freeRisk*df_cds_survie['Maturite']) #facteur d'actualisation\n",
        "  #paiement espéré actualisé de l'acheteur si il n'y a pas de défaut au cours de l'année (que l'on multiplie par le spread s)\n",
        "  df_cds_survie['VA paiement acheteur'] = df_cds_survie['Proba de survie']*df_cds_survie['Facteur actualisation']\n",
        "\n",
        "  #CF lorsqu'il y a défaut de paiement\n",
        "  df_cds_defaut = pd.DataFrame() #dataframe des paiements espérés actualisés par le vendeur du CDS\n",
        "  df_cds_defaut['Maturite'] = [x * 0.5 for x in range(1, nbyears * 2, 2)] #dates (en nb de years) en supposant que les défauts surviennent en milieu d'année\n",
        "  df_cds_defaut['Proba de défaut'] =  df_cds_survie['Proba de défaut']\n",
        "  df_cds_defaut['Recouvrement'] = recouvrement #valeur de l'oblig juste après le défaut\n",
        "  df_cds_defaut['Facteur actualisation'] = np.exp(-freeRisk*df_cds_defaut['Maturite'])\n",
        "  df_cds_defaut['VA paiement vendeur'] = df_cds_defaut['Proba de défaut']*df_cds_defaut['Facteur actualisation']*(1-recouvrement)\n",
        "  df_cds_defaut['VA paiement acheteur (cas defaut)'] = df_cds_defaut['Proba de défaut']*df_cds_defaut['Facteur actualisation']*0.5\n",
        "\n",
        "  #affichage des deux dataframes\n",
        "  #print(df_cds_survie)\n",
        "  #print(df_cds_defaut)\n",
        "\n",
        "  #calcul du spread\n",
        "  paiement_acheteur = df_cds_survie['VA paiement acheteur'].sum() + df_cds_defaut['VA paiement acheteur (cas defaut)'].sum()   #valeur totale actuelle du paiement de la part de l'acheteur du CDS\n",
        "  paiement_vendeur = df_cds_defaut['VA paiement vendeur'].sum()   #valeur totale actuelle du paiement de la part du vendeur de CDS\n",
        "  #il faut maintenant égaliser ces deux montants\n",
        "  spread =  paiement_vendeur/ paiement_acheteur\n",
        "  print(\"Le spread du CDS associé à une maturité dans\", nbyears, \"ans, une intensité de défaut de\", intensityDefault, \"%, pour un taux sans risque de \", freeRisk, \"% est de\", round(spread*10000), \"bp.\")\n",
        "  return spread\n",
        "\n",
        "\n",
        "\n",
        "nbyears = int(input(\"Veuillez entrer la maturité associé à votre CDS : \"))\n",
        "intensityDefault = float(input(\"Veuillez entrer l'intensité de défaut : \"))\n",
        "riskFree = float(input(\"Veuillez entrer le taux sans risque : \"))\n",
        "recouvrement = float(input(\"Veuillez entrer le recouvrement : \"))\n",
        "spread = prixCDS(nbyears, intensityDefault, riskFree, recouvrement)\n"
      ],
      "metadata": {
        "colab": {
          "base_uri": "https://localhost:8080/"
        },
        "id": "rcK111Ax9nsM",
        "outputId": "0d438031-a786-425b-8e2b-69e9d7ac8f70"
      },
      "execution_count": 32,
      "outputs": [
        {
          "output_type": "stream",
          "name": "stdout",
          "text": [
            "Veuillez entrer la maturité associé à votre CDS : 5\n",
            "Veuillez entrer l'intensité de défaut : 0.02\n",
            "Veuillez entrer le taux sans risque : 0.05\n",
            "Veuillez entrer le recouvrement : 0.4\n",
            "Le spread du CDS associé à une maturité dans 5 ans, une intensité de défaut de 0.02 %, pour un taux sans risque de  0.05 % est de 123 bp.\n"
          ]
        }
      ]
    },
    {
      "cell_type": "markdown",
      "source": [
        "# Estimation de l'intensité de défaut à partir des prix d'obligations"
      ],
      "metadata": {
        "id": "bQ5ccfPa9WQH"
      }
    },
    {
      "cell_type": "markdown",
      "source": [
        "Inspiration des calculs de l'exemple 24.2 du *Hull*, code Python permettant d'appliquer ces calculs sur un champ plus large d'obligations et d'obtenir le résultat facilement."
      ],
      "metadata": {
        "id": "syHv6HFg-_ZF"
      }
    },
    {
      "cell_type": "markdown",
      "source": [
        "## Hypothèses :\n",
        "- Chaque obligation a un nominal de 100€\n",
        "- Le taux de coupon en paramètre est annuel\n",
        "- Les coupons sont payés semestriellement\n",
        "- Les dates de défauts ne peuvent survenir que dans 3 mois ou 9 mois\n"
      ],
      "metadata": {
        "id": "oIxe-C5X9lkR"
      }
    },
    {
      "cell_type": "markdown",
      "source": [
        "L'objectif est à partir des taux actuariels des obligations (pour différentes maturités), du taux sans risque, de la maturité souhaitée, du recouvrement et du taux de coupon annuel pouvoir retrouver et estimer l'intensité de défaut pour chaque maturité et pouvoir s'en servir pour pricer un CDS."
      ],
      "metadata": {
        "id": "g4vhfYkj-F-m"
      }
    },
    {
      "cell_type": "markdown",
      "source": [
        "## Fonction objective"
      ],
      "metadata": {
        "id": "2D1B3o1zD09S"
      }
    },
    {
      "cell_type": "markdown",
      "source": [
        "*objective_function* est une fonction que nous allons utiliser avec de multiples itérations pour faire **égaliser le coût de défaut** (différence entre la valeur de l'obligation actualisée et la valeur de l'obligation au taux sans risque) avec la somme des **pertes espérées** (la probabilité de défaut multipliée par la valeur actualisée de la perte en cas de défaut)."
      ],
      "metadata": {
        "id": "L1oZUbex_mJO"
      }
    },
    {
      "cell_type": "code",
      "source": [
        "def objective_function(x,df_defaut,i, cout_defaut):\n",
        "  if(i==1): #maturité d'1 an\n",
        "    df_defaut.loc[0,'Probabilité de survie'] = np.exp(-x * 0.5)\n",
        "    df_defaut.loc[1,'Probabilité de survie'] = df_defaut.loc[0,'Probabilité de survie']*np.exp(-x * 0.5)\n",
        "    df_defaut.loc[0,'Probabilité de defaut'] = 1 - df_defaut.loc[0,'Probabilité de survie']\n",
        "    df_defaut.loc[1,'Probabilité de defaut'] = df_defaut.loc[0,'Probabilité de survie']-df_defaut.loc[1,'Probabilité de survie']\n",
        "  else : #cas des maturités plus d'1 an\n",
        "    df_defaut.loc[2 * (i - 1),'Probabilité de survie'] = df_defaut.loc[2 * (i - 1)-1,'Probabilité de survie']*np.exp(-x * 0.5)\n",
        "    df_defaut.loc[2 * (i - 1)+1,'Probabilité de survie'] = df_defaut.loc[2 * (i - 1),'Probabilité de survie']*np.exp(-x * 0.5)\n",
        "    df_defaut.loc[2 * (i - 1),'Probabilité de defaut'] = df_defaut.loc[2 * (i - 1)-1,'Probabilité de survie']-df_defaut.loc[2 * (i - 1),'Probabilité de survie']\n",
        "    df_defaut.loc[2 * (i - 1) + 1,'Probabilité de defaut'] = df_defaut.loc[2 * (i - 1) ,'Probabilité de survie']-df_defaut.loc[2 * (i - 1) + 1,'Probabilité de survie']\n",
        "  df_defaut['Perte espérée'] = df_defaut['VA de la perte'] * (df_defaut['Probabilité de defaut'])\n",
        "  sum_loss = df_defaut['Perte espérée'].sum() #somme des pertes espérées\n",
        "  return sum_loss - cout_defaut #il faut que cette différence tends vers 0\n"
      ],
      "metadata": {
        "id": "Yq0JSWwc-nzn"
      },
      "execution_count": 35,
      "outputs": []
    },
    {
      "cell_type": "markdown",
      "source": [
        "*compute_with_optimal_parameters* est une fonction similaire à objective_function mais qui **retourne les probabilités de survie et de défaut optimales** une fois que nous avons trouvé l'intensité de défaut de la maturité à la i-ème année. Elle permet de renvoyer les probabilités de survie et de défaut optimales trouvées et de pouvoir s'en servir pour les maturités prochaines."
      ],
      "metadata": {
        "id": "Th5TeqeuAgWf"
      }
    },
    {
      "cell_type": "code",
      "source": [
        "def compute_with_optimal_parameters(x,df_defaut, i):\n",
        "    if(i==1):#maturité d'1 an\n",
        "      df_defaut.loc[0,'Probabilité de survie'] = np.exp(-x * 0.5)\n",
        "      df_defaut.loc[1,'Probabilité de survie'] = df_defaut.loc[0,'Probabilité de survie']*np.exp(-x * 0.5)\n",
        "      df_defaut.loc[0,'Probabilité de defaut'] = 1 - df_defaut.loc[0,'Probabilité de survie']\n",
        "      df_defaut.loc[1,'Probabilité de defaut'] = df_defaut.loc[0,'Probabilité de survie']-df_defaut.loc[1,'Probabilité de survie']\n",
        "    else : #cas des maturités plus d'1 an\n",
        "      df_defaut.loc[2 * (i - 1),'Probabilité de survie'] = df_defaut.loc[2 * (i - 1)-1,'Probabilité de survie']*np.exp(-x * 0.5)\n",
        "      df_defaut.loc[2 * (i - 1)+1,'Probabilité de survie'] = df_defaut.loc[2 * (i - 1),'Probabilité de survie']*np.exp(-x * 0.5)\n",
        "      df_defaut.loc[2 * (i - 1),'Probabilité de defaut'] = df_defaut.loc[2 * (i - 1)-1,'Probabilité de survie']-df_defaut.loc[2 * (i - 1),'Probabilité de survie']\n",
        "      df_defaut.loc[2 * (i - 1) + 1,'Probabilité de defaut'] = df_defaut.loc[2 * (i - 1) ,'Probabilité de survie']-df_defaut.loc[2 * (i - 1) + 1,'Probabilité de survie']\n",
        "    print(df_defaut)\n",
        "    df_defaut['Perte espérée'] = df_defaut['VA de la perte'] * (df_defaut['Probabilité de defaut'])\n",
        "    sum_loss = df_defaut['Perte espérée'].sum()\n",
        "    tab_survie  = df_defaut['Probabilité de survie']\n",
        "    tab_defaut  = df_defaut['Probabilité de defaut']\n",
        "    return tab_survie, tab_defaut"
      ],
      "metadata": {
        "id": "c2vCrrsDAer4"
      },
      "execution_count": 36,
      "outputs": []
    },
    {
      "cell_type": "markdown",
      "source": [
        "## Fonction qui estime l'intensité de proba de défaut avec le prix des obligations"
      ],
      "metadata": {
        "id": "ouJwJipID9-k"
      }
    },
    {
      "cell_type": "markdown",
      "source": [
        "*estimate_defaut_bondsprice* est la fonction qui renvoie une liste des taux d'intensité jusqu'à la maturité souhaitée en essayant d'égaliser le coût de défaut et la somme des pertes espérées pour retrouver ce taux d'intensité à partir des taux actuariels."
      ],
      "metadata": {
        "id": "AdULMKD6ESN7"
      }
    },
    {
      "cell_type": "code",
      "source": [
        "def estimate_defaut_bondsprice(nbyears, freeRisk, recouvrement, taux_coupon):\n",
        "  df_actuariel = pd.DataFrame()\n",
        "\n",
        "  #demande à l'utilisateur les taux actuariels pour chaque maturité de l'obligation\n",
        "  for i in range(nbyears):\n",
        "        taux = float(input(f\"Entrez le taux actuariel de l'obligation à {i+1} an(s): \"))\n",
        "        df_actuariel.loc[i,'Maturité'] = f\"{i+1} an(s)\"\n",
        "        df_actuariel.loc[i,'Taux actuariel'] = taux\n",
        "  clear_output()\n",
        "\n",
        "  #small résumé des parameters\n",
        "  print(f\"Voici les inputs que nous allons utiliser pour déterminer le taux d'intensité de défaut pour {nbyears} an(s)\")\n",
        "  print(\"Taux sans risque :\", freeRisk )\n",
        "  print(\"Coupon annuel :\", taux_coupon*100)\n",
        "  print(\"Recouvrement :\", recouvrement)\n",
        "  print(\"Taux actuariel de lobligation pour différentes maturités:\")\n",
        "  print(df_actuariel)\n",
        "\n",
        "  #remplissage du dataframe df qui permet de calculer le cout de défaut à partir de la valeur de l'obligation actualisée avec les taux actuariels et la valeur de  l'obligation actualisée avec le freeRisk\n",
        "  index = 0\n",
        "  cout_defaut_list = []\n",
        "  tab_survie = []\n",
        "  for i in range(1,nbyears+1):\n",
        "    df = pd.DataFrame()\n",
        "    dates = [j / 2 for j in range(1, ((i)*2)+1)]\n",
        "    df['Date'] = dates\n",
        "    j =0\n",
        "    a = 0\n",
        "    while j <len(dates)-1:\n",
        "      df.loc[j,'Taux actuariel'] = df_actuariel.loc[a,'Taux actuariel'] #mettre une colonne avec le taux actuariel correspondant à la date\n",
        "      df.loc[j+1,'Taux actuariel'] = df_actuariel.loc[a,'Taux actuariel']\n",
        "      j = j+2\n",
        "      a = a+1\n",
        "    cf = [(taux_coupon / 2) * 100 for j in range(1, ((i)*2))]\n",
        "    cf.append(100 + ((taux_coupon / 2)*100))\n",
        "    df['Cash Flow'] = cf\n",
        "    df['Valeur de lobligation'] = df['Cash Flow'] * np.exp(-df_actuariel.loc[index,'Taux actuariel']*df['Date'])\n",
        "    df['Valeur hors défaut'] = df['Cash Flow'] * np.exp(-freeRisk*df['Date'])\n",
        "    df.loc['Total','Valeur de lobligation' ] = df['Valeur de lobligation'].sum()\n",
        "    df.loc['Total','Valeur hors défaut' ] = df['Valeur hors défaut'].sum()\n",
        "    df.loc['Cout de défaut', 'Total'] = df.loc['Total','Valeur hors défaut'] - df.loc['Total','Valeur de lobligation']\n",
        "    cout_defaut = df.loc['Cout de défaut', 'Total']\n",
        "    index +=1\n",
        "    cout_defaut_list.append(cout_defaut)\n",
        "\n",
        "  results = []\n",
        "  for i in range(1,nbyears+1):\n",
        "    print(\"i==================\",i)\n",
        "    df_defaut = pd.DataFrame()\n",
        "    df_defaut['Date'] =  np.arange(0.25, i, 0.5) #générer les dates potentiels de défaut de paiements\n",
        "    if(i!=1):\n",
        "        index = 0\n",
        "        while index < len(tab_survie):\n",
        "            df_defaut.loc[index, 'Probabilité de survie'] = tab_survie[index]\n",
        "            df_defaut.loc[index, 'Probabilité de defaut'] = tab_defaut[index]\n",
        "            index += 1\n",
        "\n",
        "    n =len(df_defaut['Date'])\n",
        "    for t in range(n - 1, -1, -1):\n",
        "      if(t==int(len(df_defaut['Date'])-1)):\n",
        "        df_defaut.loc[t,'Valeur hors defaut'] =  ((taux_coupon/2)*100 +100)*np.exp(-freeRisk*0.25) #valeur si pas de défaut\n",
        "      else :\n",
        "        df_defaut.loc[t,'Valeur hors defaut'] =  (taux_coupon/2)*100 *np.exp(-freeRisk*0.25)+df_defaut.loc[t+1,'Valeur hors defaut']*np.exp(-freeRisk*(df_defaut.loc[t+1,'Date']-df_defaut.loc[t,'Date']))\n",
        "    df_defaut['recouvrement'] = recouvrement*100\n",
        "    df_defaut['perte si defaut'] = df_defaut['Valeur hors defaut'] - df_defaut['recouvrement'] #montant de la perte après défaut\n",
        "    df_defaut['VA de la perte'] = df_defaut['perte si defaut']*np.exp(-freeRisk*df_defaut['Date']) #actualisation de la perte\n",
        "\n",
        "    #au lieu d'utiliser un optimiseur python (qui sont moins forts que celui d'excel), j'ai préféré faire une boucle avec un pas de 1bp\n",
        "    x_values = np.arange(0.01, 1.01, 0.0001)\n",
        "    min_value = float('inf')\n",
        "    optimal_x = None\n",
        "    for x in x_values:\n",
        "        current_value = objective_function(x, df_defaut.copy(),i,cout_defaut_list[i-1])\n",
        "        if abs(current_value) < abs(min_value):\n",
        "            min_value = current_value\n",
        "            optimal_x = x\n",
        "\n",
        "    #on stocke les taux d'intensité de défaut dans la tableau results\n",
        "    results.append(optimal_x)\n",
        "    tab_survie, tab_defaut = compute_with_optimal_parameters(optimal_x, df_defaut,i)\n",
        "    print(f\"Year {i}: Optimal x = {optimal_x}\")\n",
        "  dates = [f\"{i+1} an{'s' if i > 0 else ''}\" for i in range(len(results))]\n",
        "  df_taux_intensite_defaut = pd.DataFrame({'Date': dates,'Result': results})\n",
        "  return df_taux_intensite_defaut\n",
        "\n",
        "\n",
        "nbyears = int(input(\"Veuillez entrer la maturité dont vous souhaitez connaître l'intensité de défaut  : \"))\n",
        "Freerisk =  float(input(\"Veuillez entrer le taux sans risque : \"))\n",
        "recouvrement = float(input(\"Veuillez entrer le recouvrement : \"))\n",
        "taux_coupon= float(input(\"Veuillez entrer le taux de coupon annuel sur votre bond: \"))\n",
        "\n",
        "df_taux_intensite_defaut = estimate_defaut_bondsprice(nbyears,Freerisk ,recouvrement, taux_coupon)\n",
        "df_taux_intensite_defaut\n",
        "\n"
      ],
      "metadata": {
        "id": "OiuEfAeo-MbX",
        "colab": {
          "base_uri": "https://localhost:8080/",
          "height": 1000
        },
        "outputId": "5cb23f65-4154-4b7d-82cf-11eb27aa02a1"
      },
      "execution_count": 41,
      "outputs": [
        {
          "output_type": "stream",
          "name": "stdout",
          "text": [
            "Voici les inputs que nous allons utiliser pour déterminer le taux d'intensité de défaut pour 3 an(s)\n",
            "Taux sans risque : 0.05\n",
            "Coupon annuel : 8.0\n",
            "Recouvrement : 0.4\n",
            "Taux actuariel de lobligation pour différentes maturités:\n",
            "  Maturité  Taux actuariel\n",
            "0  1 an(s)          0.0650\n",
            "1  2 an(s)          0.0680\n",
            "2  3 an(s)          0.0695\n",
            "i================== 1\n",
            "   Date  Valeur hors defaut  recouvrement  perte si defaut  VA de la perte  \\\n",
            "0  0.25          104.122531          40.0        64.122531       63.325988   \n",
            "1  0.75          102.708091          40.0        62.708091       60.400083   \n",
            "\n",
            "   Probabilité de survie  Probabilité de defaut  \n",
            "0               0.987775               0.012225  \n",
            "1               0.975700               0.012075  \n",
            "Year 1: Optimal x = 0.024599999999999914\n",
            "i================== 2\n",
            "   Date  Probabilité de survie  Probabilité de defaut  Valeur hors defaut  \\\n",
            "0  0.25               0.987775               0.012225          106.847504   \n",
            "1  0.75               0.975700               0.012075          105.502047   \n",
            "2  1.25               0.958918               0.016782          104.122531   \n",
            "3  1.75               0.942424               0.016494          102.708091   \n",
            "\n",
            "   recouvrement  perte si defaut  VA de la perte  \n",
            "0          40.0        66.847504       66.017111  \n",
            "1          40.0        65.502047       63.091206  \n",
            "2          40.0        64.122531       60.237543  \n",
            "3          40.0        62.708091       57.454337  \n",
            "Year 2: Optimal x = 0.03469999999999985\n",
            "i================== 3\n",
            "   Date  Probabilité de survie  Probabilité de defaut  Valeur hors defaut  \\\n",
            "0  0.25               0.987775               0.012225          109.439578   \n",
            "1  0.75               0.975700               0.012075          108.159741   \n",
            "2  1.25               0.958918               0.016782          106.847504   \n",
            "3  1.75               0.942424               0.016494          105.502047   \n",
            "4  2.25               0.924964               0.017460          104.122531   \n",
            "5  2.75               0.907828               0.017136          102.708091   \n",
            "\n",
            "   recouvrement  perte si defaut  VA de la perte  \n",
            "0          40.0        69.439578       68.576986  \n",
            "1          40.0        68.159741       65.651082  \n",
            "2          40.0        66.847504       62.797418  \n",
            "3          40.0        65.502047       60.014212  \n",
            "4          40.0        64.122531       57.299723  \n",
            "5          40.0        62.708091       54.652256  \n",
            "Year 3: Optimal x = 0.037399999999999836\n"
          ]
        },
        {
          "output_type": "execute_result",
          "data": {
            "text/plain": [
              "    Date  Result\n",
              "0   1 an  0.0246\n",
              "1  2 ans  0.0347\n",
              "2  3 ans  0.0374"
            ],
            "text/html": [
              "\n",
              "  <div id=\"df-81357bf8-3428-426a-a2f4-5e6278d83303\" class=\"colab-df-container\">\n",
              "    <div>\n",
              "<style scoped>\n",
              "    .dataframe tbody tr th:only-of-type {\n",
              "        vertical-align: middle;\n",
              "    }\n",
              "\n",
              "    .dataframe tbody tr th {\n",
              "        vertical-align: top;\n",
              "    }\n",
              "\n",
              "    .dataframe thead th {\n",
              "        text-align: right;\n",
              "    }\n",
              "</style>\n",
              "<table border=\"1\" class=\"dataframe\">\n",
              "  <thead>\n",
              "    <tr style=\"text-align: right;\">\n",
              "      <th></th>\n",
              "      <th>Date</th>\n",
              "      <th>Result</th>\n",
              "    </tr>\n",
              "  </thead>\n",
              "  <tbody>\n",
              "    <tr>\n",
              "      <th>0</th>\n",
              "      <td>1 an</td>\n",
              "      <td>0.0246</td>\n",
              "    </tr>\n",
              "    <tr>\n",
              "      <th>1</th>\n",
              "      <td>2 ans</td>\n",
              "      <td>0.0347</td>\n",
              "    </tr>\n",
              "    <tr>\n",
              "      <th>2</th>\n",
              "      <td>3 ans</td>\n",
              "      <td>0.0374</td>\n",
              "    </tr>\n",
              "  </tbody>\n",
              "</table>\n",
              "</div>\n",
              "    <div class=\"colab-df-buttons\">\n",
              "\n",
              "  <div class=\"colab-df-container\">\n",
              "    <button class=\"colab-df-convert\" onclick=\"convertToInteractive('df-81357bf8-3428-426a-a2f4-5e6278d83303')\"\n",
              "            title=\"Convert this dataframe to an interactive table.\"\n",
              "            style=\"display:none;\">\n",
              "\n",
              "  <svg xmlns=\"http://www.w3.org/2000/svg\" height=\"24px\" viewBox=\"0 -960 960 960\">\n",
              "    <path d=\"M120-120v-720h720v720H120Zm60-500h600v-160H180v160Zm220 220h160v-160H400v160Zm0 220h160v-160H400v160ZM180-400h160v-160H180v160Zm440 0h160v-160H620v160ZM180-180h160v-160H180v160Zm440 0h160v-160H620v160Z\"/>\n",
              "  </svg>\n",
              "    </button>\n",
              "\n",
              "  <style>\n",
              "    .colab-df-container {\n",
              "      display:flex;\n",
              "      gap: 12px;\n",
              "    }\n",
              "\n",
              "    .colab-df-convert {\n",
              "      background-color: #E8F0FE;\n",
              "      border: none;\n",
              "      border-radius: 50%;\n",
              "      cursor: pointer;\n",
              "      display: none;\n",
              "      fill: #1967D2;\n",
              "      height: 32px;\n",
              "      padding: 0 0 0 0;\n",
              "      width: 32px;\n",
              "    }\n",
              "\n",
              "    .colab-df-convert:hover {\n",
              "      background-color: #E2EBFA;\n",
              "      box-shadow: 0px 1px 2px rgba(60, 64, 67, 0.3), 0px 1px 3px 1px rgba(60, 64, 67, 0.15);\n",
              "      fill: #174EA6;\n",
              "    }\n",
              "\n",
              "    .colab-df-buttons div {\n",
              "      margin-bottom: 4px;\n",
              "    }\n",
              "\n",
              "    [theme=dark] .colab-df-convert {\n",
              "      background-color: #3B4455;\n",
              "      fill: #D2E3FC;\n",
              "    }\n",
              "\n",
              "    [theme=dark] .colab-df-convert:hover {\n",
              "      background-color: #434B5C;\n",
              "      box-shadow: 0px 1px 3px 1px rgba(0, 0, 0, 0.15);\n",
              "      filter: drop-shadow(0px 1px 2px rgba(0, 0, 0, 0.3));\n",
              "      fill: #FFFFFF;\n",
              "    }\n",
              "  </style>\n",
              "\n",
              "    <script>\n",
              "      const buttonEl =\n",
              "        document.querySelector('#df-81357bf8-3428-426a-a2f4-5e6278d83303 button.colab-df-convert');\n",
              "      buttonEl.style.display =\n",
              "        google.colab.kernel.accessAllowed ? 'block' : 'none';\n",
              "\n",
              "      async function convertToInteractive(key) {\n",
              "        const element = document.querySelector('#df-81357bf8-3428-426a-a2f4-5e6278d83303');\n",
              "        const dataTable =\n",
              "          await google.colab.kernel.invokeFunction('convertToInteractive',\n",
              "                                                    [key], {});\n",
              "        if (!dataTable) return;\n",
              "\n",
              "        const docLinkHtml = 'Like what you see? Visit the ' +\n",
              "          '<a target=\"_blank\" href=https://colab.research.google.com/notebooks/data_table.ipynb>data table notebook</a>'\n",
              "          + ' to learn more about interactive tables.';\n",
              "        element.innerHTML = '';\n",
              "        dataTable['output_type'] = 'display_data';\n",
              "        await google.colab.output.renderOutput(dataTable, element);\n",
              "        const docLink = document.createElement('div');\n",
              "        docLink.innerHTML = docLinkHtml;\n",
              "        element.appendChild(docLink);\n",
              "      }\n",
              "    </script>\n",
              "  </div>\n",
              "\n",
              "\n",
              "<div id=\"df-60fe3389-a577-4e38-a80a-30352e8fcb43\">\n",
              "  <button class=\"colab-df-quickchart\" onclick=\"quickchart('df-60fe3389-a577-4e38-a80a-30352e8fcb43')\"\n",
              "            title=\"Suggest charts\"\n",
              "            style=\"display:none;\">\n",
              "\n",
              "<svg xmlns=\"http://www.w3.org/2000/svg\" height=\"24px\"viewBox=\"0 0 24 24\"\n",
              "     width=\"24px\">\n",
              "    <g>\n",
              "        <path d=\"M19 3H5c-1.1 0-2 .9-2 2v14c0 1.1.9 2 2 2h14c1.1 0 2-.9 2-2V5c0-1.1-.9-2-2-2zM9 17H7v-7h2v7zm4 0h-2V7h2v10zm4 0h-2v-4h2v4z\"/>\n",
              "    </g>\n",
              "</svg>\n",
              "  </button>\n",
              "\n",
              "<style>\n",
              "  .colab-df-quickchart {\n",
              "      --bg-color: #E8F0FE;\n",
              "      --fill-color: #1967D2;\n",
              "      --hover-bg-color: #E2EBFA;\n",
              "      --hover-fill-color: #174EA6;\n",
              "      --disabled-fill-color: #AAA;\n",
              "      --disabled-bg-color: #DDD;\n",
              "  }\n",
              "\n",
              "  [theme=dark] .colab-df-quickchart {\n",
              "      --bg-color: #3B4455;\n",
              "      --fill-color: #D2E3FC;\n",
              "      --hover-bg-color: #434B5C;\n",
              "      --hover-fill-color: #FFFFFF;\n",
              "      --disabled-bg-color: #3B4455;\n",
              "      --disabled-fill-color: #666;\n",
              "  }\n",
              "\n",
              "  .colab-df-quickchart {\n",
              "    background-color: var(--bg-color);\n",
              "    border: none;\n",
              "    border-radius: 50%;\n",
              "    cursor: pointer;\n",
              "    display: none;\n",
              "    fill: var(--fill-color);\n",
              "    height: 32px;\n",
              "    padding: 0;\n",
              "    width: 32px;\n",
              "  }\n",
              "\n",
              "  .colab-df-quickchart:hover {\n",
              "    background-color: var(--hover-bg-color);\n",
              "    box-shadow: 0 1px 2px rgba(60, 64, 67, 0.3), 0 1px 3px 1px rgba(60, 64, 67, 0.15);\n",
              "    fill: var(--button-hover-fill-color);\n",
              "  }\n",
              "\n",
              "  .colab-df-quickchart-complete:disabled,\n",
              "  .colab-df-quickchart-complete:disabled:hover {\n",
              "    background-color: var(--disabled-bg-color);\n",
              "    fill: var(--disabled-fill-color);\n",
              "    box-shadow: none;\n",
              "  }\n",
              "\n",
              "  .colab-df-spinner {\n",
              "    border: 2px solid var(--fill-color);\n",
              "    border-color: transparent;\n",
              "    border-bottom-color: var(--fill-color);\n",
              "    animation:\n",
              "      spin 1s steps(1) infinite;\n",
              "  }\n",
              "\n",
              "  @keyframes spin {\n",
              "    0% {\n",
              "      border-color: transparent;\n",
              "      border-bottom-color: var(--fill-color);\n",
              "      border-left-color: var(--fill-color);\n",
              "    }\n",
              "    20% {\n",
              "      border-color: transparent;\n",
              "      border-left-color: var(--fill-color);\n",
              "      border-top-color: var(--fill-color);\n",
              "    }\n",
              "    30% {\n",
              "      border-color: transparent;\n",
              "      border-left-color: var(--fill-color);\n",
              "      border-top-color: var(--fill-color);\n",
              "      border-right-color: var(--fill-color);\n",
              "    }\n",
              "    40% {\n",
              "      border-color: transparent;\n",
              "      border-right-color: var(--fill-color);\n",
              "      border-top-color: var(--fill-color);\n",
              "    }\n",
              "    60% {\n",
              "      border-color: transparent;\n",
              "      border-right-color: var(--fill-color);\n",
              "    }\n",
              "    80% {\n",
              "      border-color: transparent;\n",
              "      border-right-color: var(--fill-color);\n",
              "      border-bottom-color: var(--fill-color);\n",
              "    }\n",
              "    90% {\n",
              "      border-color: transparent;\n",
              "      border-bottom-color: var(--fill-color);\n",
              "    }\n",
              "  }\n",
              "</style>\n",
              "\n",
              "  <script>\n",
              "    async function quickchart(key) {\n",
              "      const quickchartButtonEl =\n",
              "        document.querySelector('#' + key + ' button');\n",
              "      quickchartButtonEl.disabled = true;  // To prevent multiple clicks.\n",
              "      quickchartButtonEl.classList.add('colab-df-spinner');\n",
              "      try {\n",
              "        const charts = await google.colab.kernel.invokeFunction(\n",
              "            'suggestCharts', [key], {});\n",
              "      } catch (error) {\n",
              "        console.error('Error during call to suggestCharts:', error);\n",
              "      }\n",
              "      quickchartButtonEl.classList.remove('colab-df-spinner');\n",
              "      quickchartButtonEl.classList.add('colab-df-quickchart-complete');\n",
              "    }\n",
              "    (() => {\n",
              "      let quickchartButtonEl =\n",
              "        document.querySelector('#df-60fe3389-a577-4e38-a80a-30352e8fcb43 button');\n",
              "      quickchartButtonEl.style.display =\n",
              "        google.colab.kernel.accessAllowed ? 'block' : 'none';\n",
              "    })();\n",
              "  </script>\n",
              "</div>\n",
              "\n",
              "  <div id=\"id_73d59a07-448f-4d72-b839-3fbb6b05c365\">\n",
              "    <style>\n",
              "      .colab-df-generate {\n",
              "        background-color: #E8F0FE;\n",
              "        border: none;\n",
              "        border-radius: 50%;\n",
              "        cursor: pointer;\n",
              "        display: none;\n",
              "        fill: #1967D2;\n",
              "        height: 32px;\n",
              "        padding: 0 0 0 0;\n",
              "        width: 32px;\n",
              "      }\n",
              "\n",
              "      .colab-df-generate:hover {\n",
              "        background-color: #E2EBFA;\n",
              "        box-shadow: 0px 1px 2px rgba(60, 64, 67, 0.3), 0px 1px 3px 1px rgba(60, 64, 67, 0.15);\n",
              "        fill: #174EA6;\n",
              "      }\n",
              "\n",
              "      [theme=dark] .colab-df-generate {\n",
              "        background-color: #3B4455;\n",
              "        fill: #D2E3FC;\n",
              "      }\n",
              "\n",
              "      [theme=dark] .colab-df-generate:hover {\n",
              "        background-color: #434B5C;\n",
              "        box-shadow: 0px 1px 3px 1px rgba(0, 0, 0, 0.15);\n",
              "        filter: drop-shadow(0px 1px 2px rgba(0, 0, 0, 0.3));\n",
              "        fill: #FFFFFF;\n",
              "      }\n",
              "    </style>\n",
              "    <button class=\"colab-df-generate\" onclick=\"generateWithVariable('df_taux_intensite_defaut')\"\n",
              "            title=\"Generate code using this dataframe.\"\n",
              "            style=\"display:none;\">\n",
              "\n",
              "  <svg xmlns=\"http://www.w3.org/2000/svg\" height=\"24px\"viewBox=\"0 0 24 24\"\n",
              "       width=\"24px\">\n",
              "    <path d=\"M7,19H8.4L18.45,9,17,7.55,7,17.6ZM5,21V16.75L18.45,3.32a2,2,0,0,1,2.83,0l1.4,1.43a1.91,1.91,0,0,1,.58,1.4,1.91,1.91,0,0,1-.58,1.4L9.25,21ZM18.45,9,17,7.55Zm-12,3A5.31,5.31,0,0,0,4.9,8.1,5.31,5.31,0,0,0,1,6.5,5.31,5.31,0,0,0,4.9,4.9,5.31,5.31,0,0,0,6.5,1,5.31,5.31,0,0,0,8.1,4.9,5.31,5.31,0,0,0,12,6.5,5.46,5.46,0,0,0,6.5,12Z\"/>\n",
              "  </svg>\n",
              "    </button>\n",
              "    <script>\n",
              "      (() => {\n",
              "      const buttonEl =\n",
              "        document.querySelector('#id_73d59a07-448f-4d72-b839-3fbb6b05c365 button.colab-df-generate');\n",
              "      buttonEl.style.display =\n",
              "        google.colab.kernel.accessAllowed ? 'block' : 'none';\n",
              "\n",
              "      buttonEl.onclick = () => {\n",
              "        google.colab.notebook.generateWithVariable('df_taux_intensite_defaut');\n",
              "      }\n",
              "      })();\n",
              "    </script>\n",
              "  </div>\n",
              "\n",
              "    </div>\n",
              "  </div>\n"
            ],
            "application/vnd.google.colaboratory.intrinsic+json": {
              "type": "dataframe",
              "variable_name": "df_taux_intensite_defaut",
              "summary": "{\n  \"name\": \"df_taux_intensite_defaut\",\n  \"rows\": 3,\n  \"fields\": [\n    {\n      \"column\": \"Date\",\n      \"properties\": {\n        \"dtype\": \"string\",\n        \"num_unique_values\": 3,\n        \"samples\": [\n          \"1 an\",\n          \"2 ans\",\n          \"3 ans\"\n        ],\n        \"semantic_type\": \"\",\n        \"description\": \"\"\n      }\n    },\n    {\n      \"column\": \"Result\",\n      \"properties\": {\n        \"dtype\": \"number\",\n        \"std\": 0.0067470981416704445,\n        \"min\": 0.024599999999999914,\n        \"max\": 0.037399999999999836,\n        \"num_unique_values\": 3,\n        \"samples\": [\n          0.024599999999999914,\n          0.03469999999999985,\n          0.037399999999999836\n        ],\n        \"semantic_type\": \"\",\n        \"description\": \"\"\n      }\n    }\n  ]\n}"
            }
          },
          "metadata": {},
          "execution_count": 41
        }
      ]
    }
  ]
}